{
 "cells": [
  {
   "cell_type": "markdown",
   "metadata": {},
   "source": [
    "# Conversion of light scatter measured by flow cytometry to cell size distribution (carbon quotas)\n",
    "\n",
    "Cell size distributions were inferred from flow-cytometry based forward-angle light scatter measurements (FALS).\n",
    "FALS signals normalized by calibration beads were converted to a proxy of mass using the relationships $M = \\text{FALS}^{1/1.74}$ [Burbage et al. 2007](https://doi.org/10.1111/j.1529-8817.2007.00315.x) and then converted to carbon quotas assuming an average carbon quotas of 53 fg C cell$^{-1}$ [Zinser et al. 2009]( https://doi.org/10.1371/journal.pone.0005135)."
   ]
  },
  {
   "cell_type": "markdown",
   "metadata": {},
   "source": [
    "Note: you need to have downloaded the FCS files to run this script."
   ]
  },
  {
   "cell_type": "code",
   "execution_count": 1,
   "metadata": {},
   "outputs": [],
   "source": [
    "# set the path to the FCS folder\n",
    "setwd(\"PASTE/here/the/path/to/the/folder\")"
   ]
  },
  {
   "cell_type": "markdown",
   "metadata": {},
   "source": [
    "### 1. Load libraries and functions"
   ]
  },
  {
   "cell_type": "code",
   "execution_count": 2,
   "metadata": {},
   "outputs": [
    {
     "name": "stderr",
     "output_type": "stream",
     "text": [
      "── \u001b[1mAttaching packages\u001b[22m ─────────────────────────────────────── tidyverse 1.3.0 ──\n",
      "\n",
      "\u001b[32m✔\u001b[39m \u001b[34mggplot2\u001b[39m 3.3.2     \u001b[32m✔\u001b[39m \u001b[34mpurrr  \u001b[39m 0.3.4\n",
      "\u001b[32m✔\u001b[39m \u001b[34mtibble \u001b[39m 3.0.4     \u001b[32m✔\u001b[39m \u001b[34mdplyr  \u001b[39m 1.0.2\n",
      "\u001b[32m✔\u001b[39m \u001b[34mtidyr  \u001b[39m 1.1.2     \u001b[32m✔\u001b[39m \u001b[34mstringr\u001b[39m 1.4.0\n",
      "\u001b[32m✔\u001b[39m \u001b[34mreadr  \u001b[39m 1.4.0     \u001b[32m✔\u001b[39m \u001b[34mforcats\u001b[39m 0.5.0\n",
      "\n",
      "── \u001b[1mConflicts\u001b[22m ────────────────────────────────────────── tidyverse_conflicts() ──\n",
      "\u001b[31m✖\u001b[39m \u001b[34mdplyr\u001b[39m::\u001b[32mfilter()\u001b[39m masks \u001b[34mflowCore\u001b[39m::filter(), \u001b[34mstats\u001b[39m::filter()\n",
      "\u001b[31m✖\u001b[39m \u001b[34mdplyr\u001b[39m::\u001b[32mlag()\u001b[39m    masks \u001b[34mstats\u001b[39m::lag()\n",
      "\n"
     ]
    }
   ],
   "source": [
    "library(flowCore)\n",
    "library(tidyverse)\n",
    "\n",
    "# read FCS files\n",
    "read_fcs <- function(fcs_file, transformation=TRUE){\n",
    "\n",
    "  df.fcs <- dplyr::as_tibble(flowCore::exprs(flowCore::read.FCS(fcs_file, transformation=transformation, emptyValue=F)))\n",
    "  fcs <- df.fcs %>%\n",
    "          add_column(file = paste(fcs_file), pop = \"unknown\")\n",
    "  return(fcs)\n",
    "}\n",
    "\n",
    "# Gating Prochlorococcus\n",
    "manual_classify <- function(fcs, params, popname){\n",
    "\n",
    "  poly <- params # Get gating polygon definition\n",
    "  para <- colnames(poly)  # channels\n",
    "\n",
    "  df <- fcs[, para]\n",
    "  colnames(poly) <- colnames(df) <- c(\"x\",\"y\") # to stop stupid Warnings from splancs::inout()\n",
    "  id <- splancs::inout(df,poly=poly, bound=TRUE, quiet=TRUE) # indices particles based on Gate\n",
    "  fcs <- fcs %>%\n",
    "           mutate(pop = replace(pop, id & pop == \"unknown\", popname))  # update particle label\n",
    "\n",
    "  return(fcs)\n",
    "}\n",
    "\n",
    "classify_fcs <- function(fcs, gates.log) {\n",
    "  for (popname in names(gates.log)) {\n",
    "    params <- gates.log[[popname]]\n",
    "    fcs <- manual_classify(fcs, params, popname)\n",
    "   }\n",
    "  return(fcs)\n",
    "}\n",
    "\n",
    "plot_cytogram <- function (fcs, para.x = \"scatter\", para.y = \"red\", ...){\n",
    "  \n",
    "  group.colors <- c(unknown=\"grey\", beads=\"red3\",prochloro=viridis::viridis(4)[1])\n",
    "  fcs$pop <- factor(fcs$pop, levels = names(group.colors))\n",
    "  caption <- group.colors[unique(fcs$pop)]\n",
    "\n",
    "  par(pty = \"s\")\n",
    "  plot(fcs[, c(para.x, para.y)], pch = 16, cex = 0.3, col = group.colors[fcs$pop],log=\"xy\",  ...)\n",
    "  legend(\"topleft\", legend = names(caption), col = caption,\n",
    "      pch = 16, pt.cex = 0.6, bty = \"n\")\n",
    "  abline(v=1, h=1, col=\"grey\", lty=2)\n",
    "}"
   ]
  },
  {
   "cell_type": "markdown",
   "metadata": {},
   "source": [
    "### 2. Load the data"
   ]
  },
  {
   "cell_type": "code",
   "execution_count": 3,
   "metadata": {},
   "outputs": [
    {
     "name": "stderr",
     "output_type": "stream",
     "text": [
      "\n",
      "\u001b[36m──\u001b[39m \u001b[1m\u001b[1mColumn specification\u001b[1m\u001b[22m \u001b[36m────────────────────────────────────────────────────────\u001b[39m\n",
      "cols(\n",
      "  Sample = \u001b[32mcol_double()\u001b[39m,\n",
      "  Description = \u001b[31mcol_character()\u001b[39m,\n",
      "  Day = \u001b[32mcol_double()\u001b[39m,\n",
      "  Time = \u001b[32mcol_double()\u001b[39m,\n",
      "  timepoint = \u001b[32mcol_double()\u001b[39m,\n",
      "  file = \u001b[31mcol_character()\u001b[39m,\n",
      "  events = \u001b[32mcol_double()\u001b[39m,\n",
      "  sec = \u001b[32mcol_double()\u001b[39m,\n",
      "  REDmean = \u001b[32mcol_double()\u001b[39m,\n",
      "  REDcv = \u001b[32mcol_double()\u001b[39m,\n",
      "  FALSmean = \u001b[32mcol_double()\u001b[39m,\n",
      "  FALScv = \u001b[32mcol_double()\u001b[39m,\n",
      "  BLUEmean = \u001b[32mcol_double()\u001b[39m,\n",
      "  BLUEcv = \u001b[32mcol_double()\u001b[39m\n",
      ")\n",
      "\n",
      "\n"
     ]
    }
   ],
   "source": [
    "# Get list of FCS files\n",
    "file_list <- list.files(\".\", pattern = \"ZIJDEC20\")\n",
    "\n",
    "# Get metadata and add column for analytical volume (mL), \n",
    "# where samples were diluted 100X and 0.02 mL was analyzed by the flow cytometer\n",
    "meta <- read_csv(\"metadata.csv\") %>%\n",
    "        add_column(volume = 0.02/100)"
   ]
  },
  {
   "cell_type": "markdown",
   "metadata": {},
   "source": [
    "### 3. Initalization"
   ]
  },
  {
   "cell_type": "code",
   "execution_count": 4,
   "metadata": {},
   "outputs": [
    {
     "name": "stderr",
     "output_type": "stream",
     "text": [
      "Warning message:\n",
      "“No '$PnE' keyword available for the following channels: 9\n",
      "Using '0,0' as default.”\n"
     ]
    },
    {
     "name": "stdout",
     "output_type": "stream",
     "text": [
      " [1] \"Orange FL\"   \"IPHA Blue\"   \"Blue Fls\"    \"red-Red Fls\" \"90 SS\"      \n",
      " [6] \"HFLS\"        \"VFLS\"        \"Red Fls\"     \"TI\"          \"file\"       \n",
      "[11] \"pop\"        \n"
     ]
    },
    {
     "data": {
      "text/html": [
       "<style>\n",
       ".list-inline {list-style: none; margin:0; padding: 0}\n",
       ".list-inline>li {display: inline-block}\n",
       ".list-inline>li:not(:last-child)::after {content: \"\\00b7\"; padding: 0 .5ex}\n",
       "</style>\n",
       "<ol class=list-inline><li>'HFLS'</li><li>'Red Fls'</li><li>'Orange FL'</li><li>'Blue Fls'</li></ol>\n"
      ],
      "text/latex": [
       "\\begin{enumerate*}\n",
       "\\item 'HFLS'\n",
       "\\item 'Red Fls'\n",
       "\\item 'Orange FL'\n",
       "\\item 'Blue Fls'\n",
       "\\end{enumerate*}\n"
      ],
      "text/markdown": [
       "1. 'HFLS'\n",
       "2. 'Red Fls'\n",
       "3. 'Orange FL'\n",
       "4. 'Blue Fls'\n",
       "\n",
       "\n"
      ],
      "text/plain": [
       "[1] \"HFLS\"      \"Red Fls\"   \"Orange FL\" \"Blue Fls\" "
      ]
     },
     "metadata": {},
     "output_type": "display_data"
    },
    {
     "name": "stdout",
     "output_type": "stream",
     "text": [
      "[1] 0.031328 1.512942\n"
     ]
    }
   ],
   "source": [
    "#################################\n",
    "###  A. Renaming column names ###\n",
    "#################################\n",
    "\n",
    "# load a random file\n",
    "this_file <- file_list[3]\n",
    "\n",
    "# create a dataframe WITH log-amplified data\n",
    "fcs <- read_fcs(this_file, transformation = TRUE) \n",
    "\n",
    "# Find the index of each variable of interest: FSC, 692, 580 and 530 respectively\n",
    "print(names(fcs))\n",
    "id <- c(6,8,1,3) \n",
    "names(fcs)[id]\n",
    "\n",
    "# replace original names of FSC, 692, 580 and 530 respectively\n",
    "names_pmt <- names(fcs)[id] \n",
    "\n",
    "\n",
    "###########################################################\n",
    "### B. Define breaks for the Particle Size Distribution ###\n",
    "###########################################################\n",
    "# create log2 spaced size classes\n",
    "m <- 180\n",
    "min <- 0.03 # pgC (min.quotas 2.5 fgC)\n",
    "delta <- 1/32# define the width of each bin\n",
    "breaks <- round(min*2^(((1:m)+1)*delta),6) # log 2 spaced binning\n",
    "\n",
    "print(range(breaks))"
   ]
  },
  {
   "cell_type": "markdown",
   "metadata": {},
   "source": [
    "### 4. Counting the number of Prochlorococcus cells in each size classes"
   ]
  },
  {
   "cell_type": "code",
   "execution_count": 5,
   "metadata": {},
   "outputs": [
    {
     "name": "stdout",
     "output_type": "stream",
     "text": [
      "[1] \"ZIJDEC20.001\"\n"
     ]
    },
    {
     "name": "stderr",
     "output_type": "stream",
     "text": [
      "Warning message:\n",
      "“No '$PnE' keyword available for the following channels: 9\n",
      "Using '0,0' as default.”\n"
     ]
    },
    {
     "name": "stdout",
     "output_type": "stream",
     "text": [
      "[1] \"ZIJDEC20.002\"\n"
     ]
    },
    {
     "name": "stderr",
     "output_type": "stream",
     "text": [
      "Warning message:\n",
      "“No '$PnE' keyword available for the following channels: 9\n",
      "Using '0,0' as default.”\n"
     ]
    },
    {
     "name": "stdout",
     "output_type": "stream",
     "text": [
      "[1] \"ZIJDEC20.003\"\n"
     ]
    },
    {
     "name": "stderr",
     "output_type": "stream",
     "text": [
      "Warning message:\n",
      "“No '$PnE' keyword available for the following channels: 9\n",
      "Using '0,0' as default.”\n"
     ]
    },
    {
     "name": "stdout",
     "output_type": "stream",
     "text": [
      "[1] \"ZIJDEC20.004\"\n"
     ]
    },
    {
     "name": "stderr",
     "output_type": "stream",
     "text": [
      "Warning message:\n",
      "“No '$PnE' keyword available for the following channels: 9\n",
      "Using '0,0' as default.”\n"
     ]
    },
    {
     "name": "stdout",
     "output_type": "stream",
     "text": [
      "[1] \"ZIJDEC20.005\"\n"
     ]
    },
    {
     "name": "stderr",
     "output_type": "stream",
     "text": [
      "Warning message:\n",
      "“No '$PnE' keyword available for the following channels: 9\n",
      "Using '0,0' as default.”\n"
     ]
    },
    {
     "name": "stdout",
     "output_type": "stream",
     "text": [
      "[1] \"ZIJDEC20.006\"\n"
     ]
    },
    {
     "name": "stderr",
     "output_type": "stream",
     "text": [
      "Warning message:\n",
      "“No '$PnE' keyword available for the following channels: 9\n",
      "Using '0,0' as default.”\n"
     ]
    },
    {
     "name": "stdout",
     "output_type": "stream",
     "text": [
      "[1] \"ZIJDEC20.007\"\n"
     ]
    },
    {
     "name": "stderr",
     "output_type": "stream",
     "text": [
      "Warning message:\n",
      "“No '$PnE' keyword available for the following channels: 9\n",
      "Using '0,0' as default.”\n"
     ]
    },
    {
     "name": "stdout",
     "output_type": "stream",
     "text": [
      "[1] \"ZIJDEC20.008\"\n"
     ]
    },
    {
     "name": "stderr",
     "output_type": "stream",
     "text": [
      "Warning message:\n",
      "“No '$PnE' keyword available for the following channels: 9\n",
      "Using '0,0' as default.”\n"
     ]
    },
    {
     "name": "stdout",
     "output_type": "stream",
     "text": [
      "[1] \"ZIJDEC20.009\"\n"
     ]
    },
    {
     "name": "stderr",
     "output_type": "stream",
     "text": [
      "Warning message:\n",
      "“No '$PnE' keyword available for the following channels: 9\n",
      "Using '0,0' as default.”\n"
     ]
    },
    {
     "name": "stdout",
     "output_type": "stream",
     "text": [
      "[1] \"ZIJDEC20.010\"\n"
     ]
    },
    {
     "name": "stderr",
     "output_type": "stream",
     "text": [
      "Warning message:\n",
      "“No '$PnE' keyword available for the following channels: 9\n",
      "Using '0,0' as default.”\n"
     ]
    },
    {
     "name": "stdout",
     "output_type": "stream",
     "text": [
      "[1] \"ZIJDEC20.011\"\n"
     ]
    },
    {
     "name": "stderr",
     "output_type": "stream",
     "text": [
      "Warning message:\n",
      "“No '$PnE' keyword available for the following channels: 9\n",
      "Using '0,0' as default.”\n"
     ]
    },
    {
     "name": "stdout",
     "output_type": "stream",
     "text": [
      "[1] \"ZIJDEC20.012\"\n"
     ]
    },
    {
     "name": "stderr",
     "output_type": "stream",
     "text": [
      "Warning message:\n",
      "“No '$PnE' keyword available for the following channels: 9\n",
      "Using '0,0' as default.”\n"
     ]
    },
    {
     "name": "stdout",
     "output_type": "stream",
     "text": [
      "[1] \"ZIJDEC20.013\"\n"
     ]
    },
    {
     "name": "stderr",
     "output_type": "stream",
     "text": [
      "Warning message:\n",
      "“No '$PnE' keyword available for the following channels: 9\n",
      "Using '0,0' as default.”\n"
     ]
    },
    {
     "name": "stdout",
     "output_type": "stream",
     "text": [
      "[1] \"ZIJDEC20.014\"\n"
     ]
    },
    {
     "name": "stderr",
     "output_type": "stream",
     "text": [
      "Warning message:\n",
      "“No '$PnE' keyword available for the following channels: 9\n",
      "Using '0,0' as default.”\n"
     ]
    },
    {
     "name": "stdout",
     "output_type": "stream",
     "text": [
      "[1] \"ZIJDEC20.015\"\n"
     ]
    },
    {
     "name": "stderr",
     "output_type": "stream",
     "text": [
      "Warning message:\n",
      "“No '$PnE' keyword available for the following channels: 9\n",
      "Using '0,0' as default.”\n"
     ]
    },
    {
     "name": "stdout",
     "output_type": "stream",
     "text": [
      "[1] \"ZIJDEC20.016\"\n"
     ]
    },
    {
     "name": "stderr",
     "output_type": "stream",
     "text": [
      "Warning message:\n",
      "“No '$PnE' keyword available for the following channels: 9\n",
      "Using '0,0' as default.”\n"
     ]
    },
    {
     "name": "stdout",
     "output_type": "stream",
     "text": [
      "[1] \"ZIJDEC20.017\"\n"
     ]
    },
    {
     "name": "stderr",
     "output_type": "stream",
     "text": [
      "Warning message:\n",
      "“No '$PnE' keyword available for the following channels: 9\n",
      "Using '0,0' as default.”\n"
     ]
    },
    {
     "name": "stdout",
     "output_type": "stream",
     "text": [
      "[1] \"ZIJDEC20.018\"\n"
     ]
    },
    {
     "name": "stderr",
     "output_type": "stream",
     "text": [
      "Warning message:\n",
      "“No '$PnE' keyword available for the following channels: 9\n",
      "Using '0,0' as default.”\n"
     ]
    },
    {
     "name": "stdout",
     "output_type": "stream",
     "text": [
      "[1] \"ZIJDEC20.019\"\n"
     ]
    },
    {
     "name": "stderr",
     "output_type": "stream",
     "text": [
      "Warning message:\n",
      "“No '$PnE' keyword available for the following channels: 9\n",
      "Using '0,0' as default.”\n"
     ]
    },
    {
     "name": "stdout",
     "output_type": "stream",
     "text": [
      "[1] \"ZIJDEC20.020\"\n"
     ]
    },
    {
     "name": "stderr",
     "output_type": "stream",
     "text": [
      "Warning message:\n",
      "“No '$PnE' keyword available for the following channels: 9\n",
      "Using '0,0' as default.”\n"
     ]
    },
    {
     "name": "stdout",
     "output_type": "stream",
     "text": [
      "[1] \"ZIJDEC20.021\"\n"
     ]
    },
    {
     "name": "stderr",
     "output_type": "stream",
     "text": [
      "Warning message:\n",
      "“No '$PnE' keyword available for the following channels: 9\n",
      "Using '0,0' as default.”\n"
     ]
    },
    {
     "name": "stdout",
     "output_type": "stream",
     "text": [
      "[1] \"ZIJDEC20.022\"\n"
     ]
    },
    {
     "name": "stderr",
     "output_type": "stream",
     "text": [
      "Warning message:\n",
      "“No '$PnE' keyword available for the following channels: 9\n",
      "Using '0,0' as default.”\n"
     ]
    },
    {
     "name": "stdout",
     "output_type": "stream",
     "text": [
      "[1] \"ZIJDEC20.023\"\n"
     ]
    },
    {
     "name": "stderr",
     "output_type": "stream",
     "text": [
      "Warning message:\n",
      "“No '$PnE' keyword available for the following channels: 9\n",
      "Using '0,0' as default.”\n"
     ]
    },
    {
     "name": "stdout",
     "output_type": "stream",
     "text": [
      "[1] \"ZIJDEC20.024\"\n"
     ]
    },
    {
     "name": "stderr",
     "output_type": "stream",
     "text": [
      "Warning message:\n",
      "“No '$PnE' keyword available for the following channels: 9\n",
      "Using '0,0' as default.”\n"
     ]
    },
    {
     "name": "stdout",
     "output_type": "stream",
     "text": [
      "[1] \"ZIJDEC20.025\"\n"
     ]
    },
    {
     "name": "stderr",
     "output_type": "stream",
     "text": [
      "Warning message:\n",
      "“No '$PnE' keyword available for the following channels: 9\n",
      "Using '0,0' as default.”\n"
     ]
    },
    {
     "name": "stdout",
     "output_type": "stream",
     "text": [
      "[1] \"ZIJDEC20.026\"\n"
     ]
    },
    {
     "name": "stderr",
     "output_type": "stream",
     "text": [
      "Warning message:\n",
      "“No '$PnE' keyword available for the following channels: 9\n",
      "Using '0,0' as default.”\n"
     ]
    },
    {
     "name": "stdout",
     "output_type": "stream",
     "text": [
      "[1] \"ZIJDEC20.027\"\n"
     ]
    },
    {
     "name": "stderr",
     "output_type": "stream",
     "text": [
      "Warning message:\n",
      "“No '$PnE' keyword available for the following channels: 9\n",
      "Using '0,0' as default.”\n"
     ]
    },
    {
     "name": "stdout",
     "output_type": "stream",
     "text": [
      "[1] \"ZIJDEC20.028\"\n"
     ]
    },
    {
     "name": "stderr",
     "output_type": "stream",
     "text": [
      "Warning message:\n",
      "“No '$PnE' keyword available for the following channels: 9\n",
      "Using '0,0' as default.”\n"
     ]
    },
    {
     "name": "stdout",
     "output_type": "stream",
     "text": [
      "[1] \"ZIJDEC20.029\"\n"
     ]
    },
    {
     "name": "stderr",
     "output_type": "stream",
     "text": [
      "Warning message:\n",
      "“No '$PnE' keyword available for the following channels: 9\n",
      "Using '0,0' as default.”\n"
     ]
    },
    {
     "name": "stdout",
     "output_type": "stream",
     "text": [
      "[1] \"ZIJDEC20.030\"\n"
     ]
    },
    {
     "name": "stderr",
     "output_type": "stream",
     "text": [
      "Warning message:\n",
      "“No '$PnE' keyword available for the following channels: 9\n",
      "Using '0,0' as default.”\n"
     ]
    },
    {
     "name": "stdout",
     "output_type": "stream",
     "text": [
      "[1] \"ZIJDEC20.031\"\n"
     ]
    },
    {
     "name": "stderr",
     "output_type": "stream",
     "text": [
      "Warning message:\n",
      "“No '$PnE' keyword available for the following channels: 9\n",
      "Using '0,0' as default.”\n"
     ]
    },
    {
     "name": "stdout",
     "output_type": "stream",
     "text": [
      "[1] \"ZIJDEC20.032\"\n"
     ]
    },
    {
     "name": "stderr",
     "output_type": "stream",
     "text": [
      "Warning message:\n",
      "“No '$PnE' keyword available for the following channels: 9\n",
      "Using '0,0' as default.”\n"
     ]
    },
    {
     "name": "stdout",
     "output_type": "stream",
     "text": [
      "[1] \"ZIJDEC20.033\"\n"
     ]
    },
    {
     "name": "stderr",
     "output_type": "stream",
     "text": [
      "Warning message:\n",
      "“No '$PnE' keyword available for the following channels: 9\n",
      "Using '0,0' as default.”\n"
     ]
    },
    {
     "name": "stdout",
     "output_type": "stream",
     "text": [
      "[1] \"ZIJDEC20.034\"\n"
     ]
    },
    {
     "name": "stderr",
     "output_type": "stream",
     "text": [
      "Warning message:\n",
      "“No '$PnE' keyword available for the following channels: 9\n",
      "Using '0,0' as default.”\n"
     ]
    },
    {
     "name": "stdout",
     "output_type": "stream",
     "text": [
      "[1] \"ZIJDEC20.035\"\n"
     ]
    },
    {
     "name": "stderr",
     "output_type": "stream",
     "text": [
      "Warning message:\n",
      "“No '$PnE' keyword available for the following channels: 9\n",
      "Using '0,0' as default.”\n"
     ]
    },
    {
     "name": "stdout",
     "output_type": "stream",
     "text": [
      "[1] \"ZIJDEC20.036\"\n"
     ]
    },
    {
     "name": "stderr",
     "output_type": "stream",
     "text": [
      "Warning message:\n",
      "“No '$PnE' keyword available for the following channels: 9\n",
      "Using '0,0' as default.”\n"
     ]
    },
    {
     "name": "stdout",
     "output_type": "stream",
     "text": [
      "[1] \"ZIJDEC20.037\"\n"
     ]
    },
    {
     "name": "stderr",
     "output_type": "stream",
     "text": [
      "Warning message:\n",
      "“No '$PnE' keyword available for the following channels: 9\n",
      "Using '0,0' as default.”\n"
     ]
    },
    {
     "name": "stdout",
     "output_type": "stream",
     "text": [
      "[1] \"ZIJDEC20.038\"\n"
     ]
    },
    {
     "name": "stderr",
     "output_type": "stream",
     "text": [
      "Warning message:\n",
      "“No '$PnE' keyword available for the following channels: 9\n",
      "Using '0,0' as default.”\n"
     ]
    },
    {
     "name": "stdout",
     "output_type": "stream",
     "text": [
      "[1] \"ZIJDEC20.039\"\n"
     ]
    },
    {
     "name": "stderr",
     "output_type": "stream",
     "text": [
      "Warning message:\n",
      "“No '$PnE' keyword available for the following channels: 9\n",
      "Using '0,0' as default.”\n"
     ]
    },
    {
     "name": "stdout",
     "output_type": "stream",
     "text": [
      "[1] \"ZIJDEC20.040\"\n"
     ]
    },
    {
     "name": "stderr",
     "output_type": "stream",
     "text": [
      "Warning message:\n",
      "“No '$PnE' keyword available for the following channels: 9\n",
      "Using '0,0' as default.”\n"
     ]
    },
    {
     "name": "stdout",
     "output_type": "stream",
     "text": [
      "[1] \"ZIJDEC20.041\"\n"
     ]
    },
    {
     "name": "stderr",
     "output_type": "stream",
     "text": [
      "Warning message:\n",
      "“No '$PnE' keyword available for the following channels: 9\n",
      "Using '0,0' as default.”\n"
     ]
    },
    {
     "name": "stdout",
     "output_type": "stream",
     "text": [
      "[1] \"ZIJDEC20.042\"\n"
     ]
    },
    {
     "name": "stderr",
     "output_type": "stream",
     "text": [
      "Warning message:\n",
      "“No '$PnE' keyword available for the following channels: 9\n",
      "Using '0,0' as default.”\n"
     ]
    },
    {
     "name": "stdout",
     "output_type": "stream",
     "text": [
      "[1] \"ZIJDEC20.043\"\n"
     ]
    },
    {
     "name": "stderr",
     "output_type": "stream",
     "text": [
      "Warning message:\n",
      "“No '$PnE' keyword available for the following channels: 9\n",
      "Using '0,0' as default.”\n"
     ]
    },
    {
     "name": "stdout",
     "output_type": "stream",
     "text": [
      "[1] \"ZIJDEC20.044\"\n"
     ]
    },
    {
     "name": "stderr",
     "output_type": "stream",
     "text": [
      "Warning message:\n",
      "“No '$PnE' keyword available for the following channels: 9\n",
      "Using '0,0' as default.”\n"
     ]
    },
    {
     "name": "stdout",
     "output_type": "stream",
     "text": [
      "[1] \"ZIJDEC20.045\"\n"
     ]
    },
    {
     "name": "stderr",
     "output_type": "stream",
     "text": [
      "Warning message:\n",
      "“No '$PnE' keyword available for the following channels: 9\n",
      "Using '0,0' as default.”\n"
     ]
    },
    {
     "name": "stdout",
     "output_type": "stream",
     "text": [
      "[1] \"ZIJDEC20.046\"\n"
     ]
    },
    {
     "name": "stderr",
     "output_type": "stream",
     "text": [
      "Warning message:\n",
      "“No '$PnE' keyword available for the following channels: 9\n",
      "Using '0,0' as default.”\n"
     ]
    },
    {
     "name": "stdout",
     "output_type": "stream",
     "text": [
      "[1] \"ZIJDEC20.047\"\n"
     ]
    },
    {
     "name": "stderr",
     "output_type": "stream",
     "text": [
      "Warning message:\n",
      "“No '$PnE' keyword available for the following channels: 9\n",
      "Using '0,0' as default.”\n"
     ]
    },
    {
     "name": "stdout",
     "output_type": "stream",
     "text": [
      "[1] \"ZIJDEC20.048\"\n"
     ]
    },
    {
     "name": "stderr",
     "output_type": "stream",
     "text": [
      "Warning message:\n",
      "“No '$PnE' keyword available for the following channels: 9\n",
      "Using '0,0' as default.”\n"
     ]
    },
    {
     "name": "stdout",
     "output_type": "stream",
     "text": [
      "[1] \"ZIJDEC20.049\"\n"
     ]
    },
    {
     "name": "stderr",
     "output_type": "stream",
     "text": [
      "Warning message:\n",
      "“No '$PnE' keyword available for the following channels: 9\n",
      "Using '0,0' as default.”\n"
     ]
    },
    {
     "name": "stdout",
     "output_type": "stream",
     "text": [
      "[1] \"ZIJDEC20.050\"\n"
     ]
    },
    {
     "name": "stderr",
     "output_type": "stream",
     "text": [
      "Warning message:\n",
      "“No '$PnE' keyword available for the following channels: 9\n",
      "Using '0,0' as default.”\n"
     ]
    },
    {
     "name": "stdout",
     "output_type": "stream",
     "text": [
      "[1] \"ZIJDEC20.051\"\n",
      "[1] \"ZIJDEC20.052\"\n"
     ]
    },
    {
     "name": "stderr",
     "output_type": "stream",
     "text": [
      "Warning message:\n",
      "“No '$PnE' keyword available for the following channels: 9\n",
      "Using '0,0' as default.”\n"
     ]
    },
    {
     "name": "stdout",
     "output_type": "stream",
     "text": [
      "[1] \"ZIJDEC20.053\"\n"
     ]
    },
    {
     "name": "stderr",
     "output_type": "stream",
     "text": [
      "Warning message:\n",
      "“No '$PnE' keyword available for the following channels: 9\n",
      "Using '0,0' as default.”\n"
     ]
    },
    {
     "name": "stdout",
     "output_type": "stream",
     "text": [
      "[1] \"ZIJDEC20.054\"\n"
     ]
    },
    {
     "name": "stderr",
     "output_type": "stream",
     "text": [
      "Warning message:\n",
      "“No '$PnE' keyword available for the following channels: 9\n",
      "Using '0,0' as default.”\n"
     ]
    },
    {
     "name": "stdout",
     "output_type": "stream",
     "text": [
      "[1] \"ZIJDEC20.055\"\n"
     ]
    },
    {
     "name": "stderr",
     "output_type": "stream",
     "text": [
      "Warning message:\n",
      "“No '$PnE' keyword available for the following channels: 9\n",
      "Using '0,0' as default.”\n"
     ]
    },
    {
     "name": "stdout",
     "output_type": "stream",
     "text": [
      "[1] \"ZIJDEC20.056\"\n"
     ]
    },
    {
     "name": "stderr",
     "output_type": "stream",
     "text": [
      "Warning message:\n",
      "“No '$PnE' keyword available for the following channels: 9\n",
      "Using '0,0' as default.”\n"
     ]
    },
    {
     "name": "stdout",
     "output_type": "stream",
     "text": [
      "[1] \"ZIJDEC20.057\"\n"
     ]
    },
    {
     "name": "stderr",
     "output_type": "stream",
     "text": [
      "Warning message:\n",
      "“No '$PnE' keyword available for the following channels: 9\n",
      "Using '0,0' as default.”\n"
     ]
    },
    {
     "name": "stdout",
     "output_type": "stream",
     "text": [
      "[1] \"ZIJDEC20.058\"\n"
     ]
    },
    {
     "name": "stderr",
     "output_type": "stream",
     "text": [
      "Warning message:\n",
      "“No '$PnE' keyword available for the following channels: 9\n",
      "Using '0,0' as default.”\n"
     ]
    },
    {
     "name": "stdout",
     "output_type": "stream",
     "text": [
      "[1] \"ZIJDEC20.059\"\n"
     ]
    },
    {
     "name": "stderr",
     "output_type": "stream",
     "text": [
      "Warning message:\n",
      "“No '$PnE' keyword available for the following channels: 9\n",
      "Using '0,0' as default.”\n"
     ]
    },
    {
     "name": "stdout",
     "output_type": "stream",
     "text": [
      "[1] \"ZIJDEC20.060\"\n"
     ]
    },
    {
     "name": "stderr",
     "output_type": "stream",
     "text": [
      "Warning message:\n",
      "“No '$PnE' keyword available for the following channels: 9\n",
      "Using '0,0' as default.”\n"
     ]
    },
    {
     "name": "stdout",
     "output_type": "stream",
     "text": [
      "[1] \"ZIJDEC20.061\"\n"
     ]
    },
    {
     "name": "stderr",
     "output_type": "stream",
     "text": [
      "Warning message:\n",
      "“No '$PnE' keyword available for the following channels: 9\n",
      "Using '0,0' as default.”\n"
     ]
    },
    {
     "name": "stdout",
     "output_type": "stream",
     "text": [
      "[1] \"ZIJDEC20.062\"\n"
     ]
    },
    {
     "name": "stderr",
     "output_type": "stream",
     "text": [
      "Warning message:\n",
      "“No '$PnE' keyword available for the following channels: 9\n",
      "Using '0,0' as default.”\n"
     ]
    },
    {
     "name": "stdout",
     "output_type": "stream",
     "text": [
      "[1] \"ZIJDEC20.063\"\n"
     ]
    },
    {
     "name": "stderr",
     "output_type": "stream",
     "text": [
      "Warning message:\n",
      "“No '$PnE' keyword available for the following channels: 9\n",
      "Using '0,0' as default.”\n"
     ]
    },
    {
     "name": "stdout",
     "output_type": "stream",
     "text": [
      "[1] \"ZIJDEC20.064\"\n"
     ]
    },
    {
     "name": "stderr",
     "output_type": "stream",
     "text": [
      "Warning message:\n",
      "“No '$PnE' keyword available for the following channels: 9\n",
      "Using '0,0' as default.”\n"
     ]
    },
    {
     "name": "stdout",
     "output_type": "stream",
     "text": [
      "[1] \"ZIJDEC20.065\"\n"
     ]
    },
    {
     "name": "stderr",
     "output_type": "stream",
     "text": [
      "Warning message:\n",
      "“No '$PnE' keyword available for the following channels: 9\n",
      "Using '0,0' as default.”\n"
     ]
    },
    {
     "name": "stdout",
     "output_type": "stream",
     "text": [
      "[1] \"ZIJDEC20.066\"\n"
     ]
    },
    {
     "name": "stderr",
     "output_type": "stream",
     "text": [
      "Warning message:\n",
      "“No '$PnE' keyword available for the following channels: 9\n",
      "Using '0,0' as default.”\n"
     ]
    },
    {
     "name": "stdout",
     "output_type": "stream",
     "text": [
      "[1] \"ZIJDEC20.067\"\n"
     ]
    },
    {
     "name": "stderr",
     "output_type": "stream",
     "text": [
      "Warning message:\n",
      "“No '$PnE' keyword available for the following channels: 9\n",
      "Using '0,0' as default.”\n"
     ]
    },
    {
     "name": "stdout",
     "output_type": "stream",
     "text": [
      "[1] \"ZIJDEC20.068\"\n"
     ]
    },
    {
     "name": "stderr",
     "output_type": "stream",
     "text": [
      "Warning message:\n",
      "“No '$PnE' keyword available for the following channels: 9\n",
      "Using '0,0' as default.”\n"
     ]
    },
    {
     "name": "stdout",
     "output_type": "stream",
     "text": [
      "[1] \"ZIJDEC20.069\"\n"
     ]
    },
    {
     "name": "stderr",
     "output_type": "stream",
     "text": [
      "Warning message:\n",
      "“No '$PnE' keyword available for the following channels: 9\n",
      "Using '0,0' as default.”\n"
     ]
    },
    {
     "name": "stdout",
     "output_type": "stream",
     "text": [
      "[1] \"ZIJDEC20.070\"\n"
     ]
    },
    {
     "name": "stderr",
     "output_type": "stream",
     "text": [
      "Warning message:\n",
      "“No '$PnE' keyword available for the following channels: 9\n",
      "Using '0,0' as default.”\n"
     ]
    },
    {
     "name": "stdout",
     "output_type": "stream",
     "text": [
      "[1] \"ZIJDEC20.071\"\n"
     ]
    },
    {
     "name": "stderr",
     "output_type": "stream",
     "text": [
      "Warning message:\n",
      "“No '$PnE' keyword available for the following channels: 9\n",
      "Using '0,0' as default.”\n"
     ]
    },
    {
     "name": "stdout",
     "output_type": "stream",
     "text": [
      "[1] \"ZIJDEC20.072\"\n"
     ]
    },
    {
     "name": "stderr",
     "output_type": "stream",
     "text": [
      "Warning message:\n",
      "“No '$PnE' keyword available for the following channels: 9\n",
      "Using '0,0' as default.”\n"
     ]
    },
    {
     "name": "stdout",
     "output_type": "stream",
     "text": [
      "[1] \"ZIJDEC20.073\"\n"
     ]
    },
    {
     "name": "stderr",
     "output_type": "stream",
     "text": [
      "Warning message:\n",
      "“No '$PnE' keyword available for the following channels: 9\n",
      "Using '0,0' as default.”\n"
     ]
    },
    {
     "name": "stdout",
     "output_type": "stream",
     "text": [
      "[1] \"ZIJDEC20.074\"\n"
     ]
    },
    {
     "name": "stderr",
     "output_type": "stream",
     "text": [
      "Warning message:\n",
      "“No '$PnE' keyword available for the following channels: 9\n",
      "Using '0,0' as default.”\n"
     ]
    },
    {
     "name": "stdout",
     "output_type": "stream",
     "text": [
      "[1] \"ZIJDEC20.075\"\n"
     ]
    },
    {
     "name": "stderr",
     "output_type": "stream",
     "text": [
      "Warning message:\n",
      "“No '$PnE' keyword available for the following channels: 9\n",
      "Using '0,0' as default.”\n"
     ]
    },
    {
     "name": "stdout",
     "output_type": "stream",
     "text": [
      "[1] \"ZIJDEC20.076\"\n"
     ]
    },
    {
     "name": "stderr",
     "output_type": "stream",
     "text": [
      "Warning message:\n",
      "“No '$PnE' keyword available for the following channels: 9\n",
      "Using '0,0' as default.”\n"
     ]
    },
    {
     "name": "stdout",
     "output_type": "stream",
     "text": [
      "[1] \"ZIJDEC20.077\"\n"
     ]
    },
    {
     "name": "stderr",
     "output_type": "stream",
     "text": [
      "Warning message:\n",
      "“No '$PnE' keyword available for the following channels: 9\n",
      "Using '0,0' as default.”\n"
     ]
    },
    {
     "name": "stdout",
     "output_type": "stream",
     "text": [
      "[1] \"ZIJDEC20.078\"\n"
     ]
    },
    {
     "name": "stderr",
     "output_type": "stream",
     "text": [
      "Warning message:\n",
      "“No '$PnE' keyword available for the following channels: 9\n",
      "Using '0,0' as default.”\n"
     ]
    },
    {
     "name": "stdout",
     "output_type": "stream",
     "text": [
      "[1] \"ZIJDEC20.079\"\n"
     ]
    },
    {
     "name": "stderr",
     "output_type": "stream",
     "text": [
      "Warning message:\n",
      "“No '$PnE' keyword available for the following channels: 9\n",
      "Using '0,0' as default.”\n"
     ]
    },
    {
     "name": "stdout",
     "output_type": "stream",
     "text": [
      "[1] \"ZIJDEC20.080\"\n"
     ]
    },
    {
     "name": "stderr",
     "output_type": "stream",
     "text": [
      "Warning message:\n",
      "“No '$PnE' keyword available for the following channels: 9\n",
      "Using '0,0' as default.”\n"
     ]
    },
    {
     "name": "stdout",
     "output_type": "stream",
     "text": [
      "[1] \"ZIJDEC20.081\"\n"
     ]
    },
    {
     "name": "stderr",
     "output_type": "stream",
     "text": [
      "Warning message:\n",
      "“No '$PnE' keyword available for the following channels: 9\n",
      "Using '0,0' as default.”\n"
     ]
    },
    {
     "name": "stdout",
     "output_type": "stream",
     "text": [
      "[1] \"ZIJDEC20.082\"\n"
     ]
    },
    {
     "name": "stderr",
     "output_type": "stream",
     "text": [
      "Warning message:\n",
      "“No '$PnE' keyword available for the following channels: 9\n",
      "Using '0,0' as default.”\n"
     ]
    },
    {
     "name": "stdout",
     "output_type": "stream",
     "text": [
      "[1] \"ZIJDEC20.083\"\n"
     ]
    },
    {
     "name": "stderr",
     "output_type": "stream",
     "text": [
      "Warning message:\n",
      "“No '$PnE' keyword available for the following channels: 9\n",
      "Using '0,0' as default.”\n"
     ]
    },
    {
     "name": "stdout",
     "output_type": "stream",
     "text": [
      "[1] \"ZIJDEC20.084\"\n"
     ]
    },
    {
     "name": "stderr",
     "output_type": "stream",
     "text": [
      "Warning message:\n",
      "“No '$PnE' keyword available for the following channels: 9\n",
      "Using '0,0' as default.”\n"
     ]
    },
    {
     "name": "stdout",
     "output_type": "stream",
     "text": [
      "[1] \"ZIJDEC20.085\"\n"
     ]
    },
    {
     "name": "stderr",
     "output_type": "stream",
     "text": [
      "Warning message:\n",
      "“No '$PnE' keyword available for the following channels: 9\n",
      "Using '0,0' as default.”\n"
     ]
    },
    {
     "name": "stdout",
     "output_type": "stream",
     "text": [
      "[1] \"ZIJDEC20.086\"\n"
     ]
    },
    {
     "name": "stderr",
     "output_type": "stream",
     "text": [
      "Warning message:\n",
      "“No '$PnE' keyword available for the following channels: 9\n",
      "Using '0,0' as default.”\n"
     ]
    },
    {
     "name": "stdout",
     "output_type": "stream",
     "text": [
      "[1] \"ZIJDEC20.087\"\n"
     ]
    },
    {
     "name": "stderr",
     "output_type": "stream",
     "text": [
      "Warning message:\n",
      "“No '$PnE' keyword available for the following channels: 9\n",
      "Using '0,0' as default.”\n"
     ]
    },
    {
     "name": "stdout",
     "output_type": "stream",
     "text": [
      "[1] \"ZIJDEC20.088\"\n"
     ]
    },
    {
     "name": "stderr",
     "output_type": "stream",
     "text": [
      "Warning message:\n",
      "“No '$PnE' keyword available for the following channels: 9\n",
      "Using '0,0' as default.”\n"
     ]
    },
    {
     "name": "stdout",
     "output_type": "stream",
     "text": [
      "[1] \"ZIJDEC20.089\"\n"
     ]
    },
    {
     "name": "stderr",
     "output_type": "stream",
     "text": [
      "Warning message:\n",
      "“No '$PnE' keyword available for the following channels: 9\n",
      "Using '0,0' as default.”\n"
     ]
    },
    {
     "name": "stdout",
     "output_type": "stream",
     "text": [
      "[1] \"ZIJDEC20.090\"\n"
     ]
    },
    {
     "name": "stderr",
     "output_type": "stream",
     "text": [
      "Warning message:\n",
      "“No '$PnE' keyword available for the following channels: 9\n",
      "Using '0,0' as default.”\n"
     ]
    },
    {
     "name": "stdout",
     "output_type": "stream",
     "text": [
      "[1] \"ZIJDEC20.091\"\n"
     ]
    },
    {
     "name": "stderr",
     "output_type": "stream",
     "text": [
      "Warning message:\n",
      "“No '$PnE' keyword available for the following channels: 9\n",
      "Using '0,0' as default.”\n"
     ]
    },
    {
     "name": "stdout",
     "output_type": "stream",
     "text": [
      "[1] \"ZIJDEC20.092\"\n"
     ]
    },
    {
     "name": "stderr",
     "output_type": "stream",
     "text": [
      "Warning message:\n",
      "“No '$PnE' keyword available for the following channels: 9\n",
      "Using '0,0' as default.”\n"
     ]
    },
    {
     "name": "stdout",
     "output_type": "stream",
     "text": [
      "[1] \"ZIJDEC20.093\"\n"
     ]
    },
    {
     "name": "stderr",
     "output_type": "stream",
     "text": [
      "Warning message:\n",
      "“No '$PnE' keyword available for the following channels: 9\n",
      "Using '0,0' as default.”\n"
     ]
    },
    {
     "name": "stdout",
     "output_type": "stream",
     "text": [
      "[1] \"ZIJDEC20.094\"\n"
     ]
    },
    {
     "name": "stderr",
     "output_type": "stream",
     "text": [
      "Warning message:\n",
      "“No '$PnE' keyword available for the following channels: 9\n",
      "Using '0,0' as default.”\n"
     ]
    },
    {
     "name": "stdout",
     "output_type": "stream",
     "text": [
      "[1] \"ZIJDEC20.095\"\n"
     ]
    },
    {
     "name": "stderr",
     "output_type": "stream",
     "text": [
      "Warning message:\n",
      "“No '$PnE' keyword available for the following channels: 9\n",
      "Using '0,0' as default.”\n"
     ]
    },
    {
     "name": "stdout",
     "output_type": "stream",
     "text": [
      "[1] \"ZIJDEC20.096\"\n"
     ]
    },
    {
     "name": "stderr",
     "output_type": "stream",
     "text": [
      "Warning message:\n",
      "“No '$PnE' keyword available for the following channels: 9\n",
      "Using '0,0' as default.”\n"
     ]
    },
    {
     "name": "stdout",
     "output_type": "stream",
     "text": [
      "[1] \"ZIJDEC20.097\"\n"
     ]
    },
    {
     "name": "stderr",
     "output_type": "stream",
     "text": [
      "Warning message:\n",
      "“No '$PnE' keyword available for the following channels: 9\n",
      "Using '0,0' as default.”\n"
     ]
    },
    {
     "name": "stdout",
     "output_type": "stream",
     "text": [
      "[1] \"ZIJDEC20.098\"\n"
     ]
    },
    {
     "name": "stderr",
     "output_type": "stream",
     "text": [
      "Warning message:\n",
      "“No '$PnE' keyword available for the following channels: 9\n",
      "Using '0,0' as default.”\n"
     ]
    },
    {
     "name": "stdout",
     "output_type": "stream",
     "text": [
      "[1] \"ZIJDEC20.099\"\n"
     ]
    },
    {
     "name": "stderr",
     "output_type": "stream",
     "text": [
      "Warning message:\n",
      "“No '$PnE' keyword available for the following channels: 9\n",
      "Using '0,0' as default.”\n"
     ]
    },
    {
     "name": "stdout",
     "output_type": "stream",
     "text": [
      "[1] \"ZIJDEC20.100\"\n"
     ]
    },
    {
     "name": "stderr",
     "output_type": "stream",
     "text": [
      "Warning message:\n",
      "“No '$PnE' keyword available for the following channels: 9\n",
      "Using '0,0' as default.”\n"
     ]
    },
    {
     "name": "stdout",
     "output_type": "stream",
     "text": [
      "[1] \"ZIJDEC20.101\"\n"
     ]
    },
    {
     "name": "stderr",
     "output_type": "stream",
     "text": [
      "Warning message:\n",
      "“No '$PnE' keyword available for the following channels: 9\n",
      "Using '0,0' as default.”\n"
     ]
    },
    {
     "name": "stdout",
     "output_type": "stream",
     "text": [
      "[1] \"ZIJDEC20.102\"\n"
     ]
    },
    {
     "name": "stderr",
     "output_type": "stream",
     "text": [
      "Warning message:\n",
      "“No '$PnE' keyword available for the following channels: 9\n",
      "Using '0,0' as default.”\n"
     ]
    },
    {
     "name": "stdout",
     "output_type": "stream",
     "text": [
      "[1] \"ZIJDEC20.103\"\n"
     ]
    },
    {
     "name": "stderr",
     "output_type": "stream",
     "text": [
      "Warning message:\n",
      "“No '$PnE' keyword available for the following channels: 9\n",
      "Using '0,0' as default.”\n"
     ]
    }
   ],
   "source": [
    "system(\"mkdir gating\")\n",
    "\n",
    "distribution <- tibble()\n",
    "\n",
    "for (this_file in file_list[-1]){\n",
    "\n",
    "    #####################\n",
    "    ### Read FCS data ###\n",
    "    #####################\n",
    "    # this_file <- file_list[2]\n",
    "    print(paste(this_file))\n",
    "\n",
    "    # Skip file ZIJDEC20.051 (used as blank, no cells in it)\n",
    "    id <- grep(basename(this_file), meta$file, ignore.case=T)\n",
    "    if(length(id) == 0) next\n",
    "    \n",
    "    # create a dataframe WITH log-amplified data)\n",
    "    fcs <- read_fcs(this_file, transformation = TRUE) \n",
    "    \n",
    "    # rename header\n",
    "    names(fcs)[match(names_pmt, names(fcs))] <- c(\"scatter\", \"red\", \"orange\", \"green\")\n",
    "\n",
    "    ##############\n",
    "    ### Gating ###\n",
    "    ##############\n",
    "    # Load gating scheme (gates.log, polygon coordinates for Beads and Prochlorococcus)\n",
    "    # see function FCSplankton::set.gating.parameters for more details (https://github.com/fribalet/FCSplankton)\n",
    "    load(\"Gating.RData\") \n",
    "\n",
    "    # Assign \"beads\" label to particles\n",
    "    fcs <- classify_fcs(fcs, gates.log[][1])\n",
    "\n",
    "    # Normalization\n",
    "    beads <- fcs[which(fcs$pop == \"beads\"),]\n",
    "    fcs$norm.scatter <- fcs$scatter / median(beads$scatter)\n",
    "    fcs$norm.orange <- fcs$orange / median(beads$orange)\n",
    "    fcs$norm.red <- fcs$red / median(beads$red)\n",
    "    fcs$norm.green <- fcs$green / median(beads$green)\n",
    "    \n",
    "    # Apply gating scheme\n",
    "    fcs <- classify_fcs(fcs, gates.log)\n",
    "    \n",
    "    # Save plot\n",
    "    png(paste0(\"gating/\",this_file, \".png\"),width=12, height=12, unit=\"in\", res=200)\n",
    "    par(pty=\"s\", cex=1.2)\n",
    "    plot_cytogram(fcs, \"norm.scatter\",\"norm.red\", ylab=\"red\\n (normalized to beads)\", xlab=\"scatter\\n (normalized to beads)\")\n",
    "    dev.off()\n",
    " \n",
    "    ####################################################\n",
    "    ### Conversion scatter values to a proxy of mass ###\n",
    "    ####################################################\n",
    "    # M = FALS ^ (1/1.74) (Burbage and Binder 2007)\n",
    "    fcs$quotas <- fcs$norm.scatter^(1/1.74) # arbitruary unit\n",
    "      \n",
    "    ######################################################\n",
    "    ### COUNT NUMBER OF PARTICLES IN EACH SIZE CLASSES ###\n",
    "    ######################################################\n",
    "    psd <- fcs %>% filter(pop == \"prochloro\") %>%\n",
    "            select(quotas) %>%\n",
    "            group_by(breaks=cut(quotas, breaks), .drop=F) %>%\n",
    "            count(breaks) %>%\n",
    "            pivot_wider(names_from = breaks, values_from = n) \n",
    "\n",
    "    psd <- psd %>% add_column(time= meta$timepoint[id], .before=1) %>%\n",
    "                  add_column(volume= meta$volume[id], .after=1)\n",
    "\n",
    "    distribution <- dplyr::bind_rows(distribution, psd)\n",
    "\n",
    "}\n",
    "\n",
    "# Sort by date\n",
    "distribution <- distribution[order(distribution$time),]"
   ]
  },
  {
   "cell_type": "markdown",
   "metadata": {},
   "source": [
    "### 5. Convert mass (arbitruary unit) to carbon quotas\n",
    "Here we assume that the mean carbon quotas during the experiment is 53 fg cell-1 (Zinser et al. 2009)"
   ]
  },
  {
   "cell_type": "code",
   "execution_count": 6,
   "metadata": {},
   "outputs": [
    {
     "data": {
      "image/png": "[encoded data removed]",
      "text/plain": [
       "plot without title"
      ]
     },
     "metadata": {
      "image/png": {
       "height": 420,
       "width": 420
      }
     },
     "output_type": "display_data"
    }
   ],
   "source": [
    "# indices of columns size classes\n",
    "clmn <- grep(\"]\", names(distribution))\n",
    "\n",
    "# calculate cell abundance in each size classes\n",
    "clmn <- grep(\"]\", names(distribution))\n",
    "distribution[,clmn] <- distribution[,clmn] / distribution[[\"volume\"]]\n",
    "\n",
    "# calculate mean mass over the entire experiment\n",
    "b <- strsplit(sub(\"\\\\]\",\"\",sub(\"\\\\(\",\"\",colnames(distribution)[clmn])),\",\")\n",
    "mass <- unlist(list(lapply(b, function(x) sqrt(mean(as.numeric(x))*max(as.numeric(x))))))\n",
    "q <- t(diag(mass) %*%  t(as.matrix(distribution[,clmn])))\n",
    "mass.per.cell.avg <- rowSums(q)/rowSums(distribution[,clmn])\n",
    "                        \n",
    "# convert Mass to Carbon quotas assuming mean Quotas = 53 fg cell-1 \n",
    "REFERENCE_QUOTA <- 53                           \n",
    "f <- REFERENCE_QUOTA / mean(mass.per.cell.avg)                         \n",
    "quotas <-  mass * f\n",
    "colnames(distribution)[clmn] <- as.character(round(quotas,3))\n",
    "\n",
    "# Plot mean Carbon quotas\n",
    "carbon.per.cell.avg <- mass.per.cell.avg  * f                              \n",
    "plot(carbon.per.cell.avg); abline(h=REFERENCE_QUOTA, lty=2)"
   ]
  },
  {
   "cell_type": "markdown",
   "metadata": {},
   "source": [
    "### 6. Save data"
   ]
  },
  {
   "cell_type": "code",
   "execution_count": 10,
   "metadata": {},
   "outputs": [
    {
     "data": {
      "image/png": "[encoded data removed]",
      "text/plain": [
       "plot without title"
      ]
     },
     "metadata": {
      "image/png": {
       "height": 420,
       "width": 420
      }
     },
     "output_type": "display_data"
    }
   ],
   "source": [
    "# Calculate mean of replicates\n",
    "PSD   <- distribution   %>%\n",
    "              dplyr::group_by(time) %>%\n",
    "              dplyr::summarise_all(mean) \n",
    "\n",
    "# plot PSD\n",
    "Ndist <- data.matrix(PSD[,clmn])          \n",
    "Vdist <- Ndist / rowSums(Ndist, na.rm=T)  \n",
    "fields::image.plot(x=PSD$time,y=quotas,z=Vdist, xlab=\"time\", ylab=\"Carbon quotas (fgC cell-1)\")\n",
    "\n",
    "# to be compatible with \"regrid_csv_to_nc.py\"\n",
    "colnames(PSD)[1] <- \"NaN\" # replace first column name by NaN\n",
    "PSD[,1] <- c(seq(8,22,2), seq(0,22,2), seq(0,8,2)) # hours of the day\n",
    "id <- as.numeric(which(colSums(PSD) == 0)) # remove empty size classes\n",
    "\n",
    "write_csv(PSD[,-c(2, id)], \"zinser_psd.csv\")"
   ]
  },
  {
   "cell_type": "code",
   "execution_count": null,
   "metadata": {},
   "outputs": [],
   "source": []
  }
 ],
 "metadata": {
  "kernelspec": {
   "display_name": "R",
   "language": "R",
   "name": "ir"
  },
  "language_info": {
   "codemirror_mode": "r",
   "file_extension": ".r",
   "mimetype": "text/x-r-source",
   "name": "R",
   "pygments_lexer": "r",
   "version": "4.0.2"
  }
 },
 "nbformat": 4,
 "nbformat_minor": 4
}
